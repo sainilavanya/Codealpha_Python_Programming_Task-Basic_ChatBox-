{
 "cells": [
  {
   "cell_type": "code",
   "execution_count": null,
   "id": "2ace1c57-657e-4b2e-b66d-71ba1311c344",
   "metadata": {},
   "outputs": [
    {
     "name": "stdout",
     "output_type": "stream",
     "text": [
      "Chatbot: Hello! You can start chatting with me. Type 'bye' to exit.\n"
     ]
    },
    {
     "name": "stdin",
     "output_type": "stream",
     "text": [
      "You:  hi\n"
     ]
    },
    {
     "name": "stdout",
     "output_type": "stream",
     "text": [
      "Chatbot: Hello! How can I assist you today?\n"
     ]
    }
   ],
   "source": [
    "import spacy\n",
    "\n",
    "# Load the spaCy English model\n",
    "nlp = spacy.load('en_core_web_sm')\n",
    "\n",
    "# Predefined responses for different intents\n",
    "responses = {\n",
    "    \"greeting\": [\"Hello! How can I assist you today?\", \"Hi there! How can I help you?\", \"Hello! What can I do for you?\"],\n",
    "    \"goodbye\": [\"Goodbye! Have a great day!\", \"Bye! Take care.\", \"Goodbye! Feel free to chat with me again.\"],\n",
    "    \"name\": [\"I am a chatbot created to assist you.\", \"I'm your friendly chatbot!\", \"I don't have a name, but I'm here to help!\"],\n",
    "    \"default\": [\"I'm sorry, I don't understand that.\", \"Can you please rephrase?\", \"I'm not sure how to respond to that.\"]\n",
    "}\n",
    "\n",
    "# Function to process the user's input and identify intents\n",
    "def get_intent(text):\n",
    "    doc = nlp(text)\n",
    "    tokens = [token.lemma_.lower() for token in doc]  # Lemmatize tokens for better matching\n",
    "\n",
    "    # Identify basic intents based on lemmatized tokens\n",
    "    if any(token in tokens for token in ['hello', 'hi', 'hey']):\n",
    "        return \"greeting\"\n",
    "    elif any(token in tokens for token in ['bye', 'goodbye', 'see', 'later']):\n",
    "        return \"goodbye\"\n",
    "    elif any(token in tokens for token in ['name', 'who', 'what', 'you']):\n",
    "        return \"name\"\n",
    "    else:\n",
    "        return \"default\"\n",
    "\n",
    "# Function to get a response based on the identified intent\n",
    "def get_response(intent):\n",
    "    return responses[intent][0]  # Just return the first response for simplicity\n",
    "\n",
    "# Main function to run the chatbot\n",
    "def chatbot():\n",
    "    print(\"Chatbot: Hello! You can start chatting with me. Type 'bye' to exit.\")\n",
    "    while True:\n",
    "        user_input = input(\"You: \").strip()  # Get user input\n",
    "        if user_input.lower() in ['bye', 'exit', 'quit']:\n",
    "            print(\"Chatbot: Goodbye! Have a great day.\")\n",
    "            break\n",
    "        \n",
    "        intent = get_intent(user_input)  # Get the intent of the user input\n",
    "        response = get_response(intent)  # Get the appropriate response for the intent\n",
    "        print(f\"Chatbot: {response}\")\n",
    "\n",
    "# Run the chatbot\n",
    "if __name__ == '__main__':\n",
    "    chatbot()\n"
   ]
  },
  {
   "cell_type": "code",
   "execution_count": null,
   "id": "90b9a4bb-5f01-4fbe-9128-b2b4478a5224",
   "metadata": {},
   "outputs": [],
   "source": []
  }
 ],
 "metadata": {
  "kernelspec": {
   "display_name": "Python 3 (ipykernel)",
   "language": "python",
   "name": "python3"
  },
  "language_info": {
   "codemirror_mode": {
    "name": "ipython",
    "version": 3
   },
   "file_extension": ".py",
   "mimetype": "text/x-python",
   "name": "python",
   "nbconvert_exporter": "python",
   "pygments_lexer": "ipython3",
   "version": "3.11.7"
  }
 },
 "nbformat": 4,
 "nbformat_minor": 5
}
